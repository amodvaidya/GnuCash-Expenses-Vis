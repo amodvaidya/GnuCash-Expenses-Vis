{
 "cells": [
  {
   "cell_type": "code",
   "execution_count": null,
   "metadata": {},
   "outputs": [],
   "source": [
    "import piecash\n",
    "import os\n",
    "import numpy as np\n",
    "import pandas as pd\n",
    "import inspect\n",
    "from datetime import datetime"
   ]
  },
  {
   "cell_type": "code",
   "execution_count": null,
   "metadata": {},
   "outputs": [],
   "source": [
    "#bokeh imports\n",
    "\n",
    "from bokeh.plotting import figure, output_notebook, show"
   ]
  },
  {
   "cell_type": "code",
   "execution_count": null,
   "metadata": {},
   "outputs": [],
   "source": [
    "def checkNameForSubCategory(stringList, names=['Maciek', 'Justyna']):\n",
    "    '''Checks if there is any name from names in List of Strings. \n",
    "    List is checked only from the 3rd value up to one before last. \n",
    "    \n",
    "    If the name is found, it is returned. If not, np.nan is returned.\n",
    "    '''\n",
    "    returnString = np.nan\n",
    "    for name in names:\n",
    "        returnString = name if name in \",\".join(stringList[2:-1]) else returnString\n",
    "    \n",
    "    return returnString"
   ]
  },
  {
   "cell_type": "code",
   "execution_count": null,
   "metadata": {},
   "outputs": [],
   "source": [
    "#creating a list of lists to be used as a body of DataFrame\n",
    "\n",
    "pwd_ = %pwd\n",
    "fileName_ = pwd_ + \"\\\\gnucash_files\\\\finanse_sql.gnucash\"\n",
    "\n",
    "with piecash.open_book(fileName_) as book:\n",
    "\n",
    "    transaction_list = []\n",
    "    for tr in book.transactions:\n",
    "        split = tr.splits\n",
    "        for single_row in split:\n",
    "            if single_row.account.type == \"EXPENSE\":\n",
    "                memo = single_row.memo.strip()\n",
    "                memo = memo if len(memo) > 0 else np.nan\n",
    "\n",
    "                tempList = list(map(str, [tr.description, \n",
    "                                          tr.post_date, \n",
    "                                          memo, \n",
    "                                          single_row.account.fullname, \n",
    "                                          single_row.value, \n",
    "                                          tr.currency.mnemonic]))\n",
    "                transaction_list.append(tempList)"
   ]
  },
  {
   "cell_type": "code",
   "execution_count": null,
   "metadata": {},
   "outputs": [],
   "source": [
    "#creating pandas DataFrame from created list of lists and adding columns\n",
    "\n",
    "sourceData = transaction_list\n",
    "\n",
    "financeFrame = pd.DataFrame(sourceData, columns=['Name', 'Date', 'Split Description', 'Account', 'Price', 'Currency'])\n",
    "financeFrame = financeFrame.sort_values(['Date', 'Name'])\n",
    "financeFrame['Split Description'] = financeFrame['Split Description'].replace('nan', np.nan)\n",
    "\n",
    "finalFrame = financeFrame.copy()\n",
    "\n",
    "#adding Product and Shop from Split Description and Name\n",
    "finalFrame['Product'] = finalFrame['Split Description'].fillna(finalFrame['Name'])\n",
    "cond = finalFrame['Split Description'].isnull()\n",
    "finalFrame['Shop'] = np.where(cond, np.nan, finalFrame['Name'])\n",
    "\n",
    "finalFrame['ALL_CATEGORIES'] = finalFrame['Account'].apply(lambda x: x.split(\":\"))\n",
    "\n",
    "# Extracting info from Account\n",
    "'''Account -> 'Wydatki:Wspólne:Zakupy:Chemia:Osobiste - Justyna:Artykuły Do Makijażu'\n",
    "    2nd: Type\n",
    "    3rd to OneBeforeLast: SubCategory\n",
    "    Last: Category\n",
    "    '''\n",
    "finalFrame['Type'] = finalFrame['ALL_CATEGORIES'].apply(lambda x: x[1])\n",
    "finalFrame['Category'] = finalFrame['ALL_CATEGORIES'].apply(lambda x: x[-1])\n",
    "finalFrame['SubCategory'] = finalFrame['ALL_CATEGORIES'].apply(lambda x: \":\".join(x[2:-1]).strip() if len(x[2:-1]) >0 else np.nan)\n",
    "finalFrame['SubType'] = finalFrame['ALL_CATEGORIES'].apply(lambda x: checkNameForSubCategory(x))\n",
    "\n",
    "# formatting Price and Date\n",
    "finalFrame['Price'] = finalFrame['Price'].apply(lambda x: float(x))\n",
    "finalFrame['Date'] = finalFrame['Date'].apply(lambda x: datetime.strptime(x, \"%Y-%m-%d\"))\n",
    "\n",
    "# dropping columns that are no longer needed\n",
    "finalFrame = finalFrame.drop(['Name', 'Split Description', 'Account'], axis = 1)"
   ]
  },
  {
   "cell_type": "markdown",
   "metadata": {},
   "source": [
    "# Example Bokeh Plots"
   ]
  },
  {
   "cell_type": "code",
   "execution_count": null,
   "metadata": {},
   "outputs": [],
   "source": [
    "# output to notebook\n",
    "output_notebook()\n",
    "\n",
    "# getting example data\n",
    "cat = 'Nabiał'\n",
    "df = finalFrame[finalFrame['Category'] == cat].groupby('Date').sum()\n",
    "x = df.index\n",
    "y = df['Price']\n",
    "\n",
    "# create a plot with title and axis labels\n",
    "p = figure(title=cat, x_axis_label = \"Dates\", y_axis_label = \"Price\", x_axis_type='datetime')\n",
    "\n",
    "# plot step and line\n",
    "p.step(x, y, legend_label=cat, line_width = 1)\n",
    "p.line(x, y, line_width=3)\n",
    "\n",
    "# show the results\n",
    "show(p)"
   ]
  },
  {
   "cell_type": "code",
   "execution_count": null,
   "metadata": {},
   "outputs": [],
   "source": [
    "from bokeh.layouts import gridplot\n",
    "\n",
    "# output to notebook\n",
    "output_notebook()\n",
    "\n",
    "# prepare two sets of data\n",
    "# this doesn't match dates with appropriate values\n",
    "agg = finalFrame.groupby(['Date', 'Category']).sum().reset_index()\n",
    "x = pd.date_range(start=agg['Date'].min(), end=agg['Date'].max(), freq=\"D\")\n",
    "y1 = agg[agg['Category'] == \"Nabiał\"]['Price']\n",
    "y2 = agg[agg['Category'] == \"Pieczywo\"]['Price']\n",
    "\n",
    "# create first figure and plot\n",
    "p1 = figure(width=480, height=480, title=\"Nabiał\", x_axis_type=\"datetime\")\n",
    "p1.line(x, y1, color='navy', alpha=0.5)\n",
    "\n",
    "# create second figure and share range with the first figure\n",
    "p2 = figure(width=480, height=480, title=\"Pieczywo\", x_range=p1.x_range, y_range=p1.y_range, x_axis_type=\"datetime\")\n",
    "p2.line(x, y2, color='firebrick', alpha=0.5)\n",
    "\n",
    "# create gridplot and show\n",
    "p_main = gridplot([[p1, p2]], toolbar_location=\"left\")\n",
    "show(p_main)"
   ]
  },
  {
   "cell_type": "code",
   "execution_count": null,
   "metadata": {},
   "outputs": [],
   "source": [
    "# output to notebook\n",
    "output_notebook()\n",
    "\n",
    "# get categorical data per month\n",
    "agg = finalFrame.groupby(['Date', 'Category']).sum().reset_index()\n",
    "agg['Month-Year'] = agg['Date'].dt.strftime(\"%m-%Y\")\n",
    "agg = agg.drop(['Date'], axis=1)\n",
    "agg = agg[agg['Month-Year'] == \"07-2019\"].groupby(['Category']).sum().reset_index()\n",
    "agg = agg.sort_values(by='Price', ascending=False)\n",
    "\n",
    "# convert categorical values to x values\n",
    "bar_width = 0.9\n",
    "category_count = agg['Category'].unique().shape[0]\n",
    "x_values = np.linspace(start=0.25, stop=category_count*(bar_width+0.25), num=category_count)\n",
    "\n",
    "# create bokeh figure\n",
    "p = figure(width=500, height=500, title=\"Categories in July2019\", x_range=agg['Category'][:10])\n",
    "\n",
    "# add categorical bar plots\n",
    "p.vbar(x=agg['Category'][:10], top=agg['Price'][:10], width=bar_width)\n",
    "\n",
    "# change orientation of labels\n",
    "p.xaxis.major_label_orientation = 0.5\n",
    "\n",
    "# show figure\n",
    "show(p)"
   ]
  },
  {
   "cell_type": "code",
   "execution_count": null,
   "metadata": {},
   "outputs": [],
   "source": []
  }
 ],
 "metadata": {
  "kernelspec": {
   "display_name": "Python 3",
   "language": "python",
   "name": "python3"
  },
  "language_info": {
   "codemirror_mode": {
    "name": "ipython",
    "version": 3
   },
   "file_extension": ".py",
   "mimetype": "text/x-python",
   "name": "python",
   "nbconvert_exporter": "python",
   "pygments_lexer": "ipython3",
   "version": "3.6.8"
  }
 },
 "nbformat": 4,
 "nbformat_minor": 2
}
